{
 "cells": [
  {
   "cell_type": "code",
   "execution_count": 7,
   "metadata": {},
   "outputs": [],
   "source": [
    "import numpy as np\n",
    "import h5py\n",
    "repository_path='C:/Users/julia/Documents/Resources/InfluenzaFitnessLandscape/NewApproachFromMarch2021/InfluenzaFitnessInference/'"
   ]
  },
  {
   "cell_type": "code",
   "execution_count": 4,
   "metadata": {},
   "outputs": [],
   "source": [
    "matrix1=np.random.random(size=(1000,1000))\n",
    "matrix2=np.random.random(size=(10000,100))"
   ]
  },
  {
   "cell_type": "markdown",
   "metadata": {},
   "source": [
    "## create and write to hdf5 file:"
   ]
  },
  {
   "cell_type": "code",
   "execution_count": 10,
   "metadata": {},
   "outputs": [],
   "source": [
    "with h5py.File(repository_path + 'results/test_data.h5','w') as hdf:\n",
    "    hdf.create_dataset('dataset1',data=matrix1)\n",
    "    hdf.create_dataset('dataset2',data=matrix2)"
   ]
  },
  {
   "cell_type": "markdown",
   "metadata": {},
   "source": [
    "## read hdf5 file"
   ]
  },
  {
   "cell_type": "code",
   "execution_count": 11,
   "metadata": {},
   "outputs": [
    {
     "name": "stdout",
     "output_type": "stream",
     "text": [
      "List of datasets in this file: \n",
      " ['dataset1', 'dataset2']\n",
      "Shape of dataset1: \n",
      " (1000, 1000)\n"
     ]
    }
   ],
   "source": [
    "with h5py.File(repository_path + 'results/test_data.h5','r') as hdf:\n",
    "    ls=list(hdf.keys()) \n",
    "    print('List of datasets in this file: \\n',ls)\n",
    "    data=hdf.get('dataset1')\n",
    "    dataset1=np.array(data)\n",
    "    print('Shape of dataset1: \\n',dataset1.shape)"
   ]
  },
  {
   "cell_type": "markdown",
   "metadata": {},
   "source": [
    "## create groups in hdf file"
   ]
  },
  {
   "cell_type": "code",
   "execution_count": 13,
   "metadata": {},
   "outputs": [],
   "source": [
    "matrix1=np.random.random(size=(1000,1000))\n",
    "matrix2=np.random.random(size=(1000,1000))\n",
    "matrix3=np.random.random(size=(1000,1000))\n",
    "matrix4=np.random.random(size=(1000,1000))"
   ]
  },
  {
   "cell_type": "code",
   "execution_count": 14,
   "metadata": {},
   "outputs": [],
   "source": [
    "with h5py.File(repository_path + 'results/test_groups.h5', 'w') as hdf:\n",
    "    G1=hdf.create_group('Group1')\n",
    "    G1.create_dataset('dataset1',data = matrix1)\n",
    "    G1.create_dataset('dataset4',data = matrix4)\n",
    "    \n",
    "    G21=hdf.create_group('Group2/SubGroup1')\n",
    "    G21.create_dataset('dataset3',data = matrix3)\n",
    "    \n",
    "    G22=hdf.create_group('Group2/SubGroup2')\n",
    "    G22.create_dataset('dataset2',data = matrix2)\n",
    "    "
   ]
  },
  {
   "cell_type": "code",
   "execution_count": null,
   "metadata": {},
   "outputs": [],
   "source": []
  }
 ],
 "metadata": {
  "kernelspec": {
   "display_name": "Python 3",
   "language": "python",
   "name": "python3"
  },
  "language_info": {
   "codemirror_mode": {
    "name": "ipython",
    "version": 3
   },
   "file_extension": ".py",
   "mimetype": "text/x-python",
   "name": "python",
   "nbconvert_exporter": "python",
   "pygments_lexer": "ipython3",
   "version": "3.8.5"
  }
 },
 "nbformat": 4,
 "nbformat_minor": 4
}
