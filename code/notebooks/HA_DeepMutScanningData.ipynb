{
 "cells": [
  {
   "cell_type": "code",
   "execution_count": 42,
   "metadata": {},
   "outputs": [],
   "source": [
    "import numpy as np\n",
    "import copy\n",
    "import os\n",
    "import pickle\n",
    "import scipy\n",
    "try:\n",
    "    import simulation as simu\n",
    "    import analysis as ana\n",
    "    import HA_analysis as hana\n",
    "except ModuleNotFoundError:\n",
    "    from fitnessinference import simulation as simu\n",
    "    from fitnessinference import analysis as ana\n",
    "    from fitnessinference import HA_analysis as hana\n",
    "from sklearn.metrics import precision_recall_curve, auc, roc_auc_score, roc_curve\n",
    "from datetime import date\n",
    "import matplotlib as mpl\n",
    "import matplotlib.pyplot as plt\n",
    "from Bio import SeqIO\n",
    "from Bio.Seq import Seq\n",
    "from math import log10, floor\n",
    "import pandas as pd"
   ]
  },
  {
   "cell_type": "code",
   "execution_count": 18,
   "metadata": {},
   "outputs": [],
   "source": [
    "# get aa preference table (from csv file) as pandas dataframe\n",
    "data_filename = 'github_jbloomlab_Perth2009-DMS-Manuscript_summary_avgprefs.csv'\n",
    "data_folder = os.path.normpath('C:/Users/julia/Documents/Resources/InfluenzaFitnessLandscape'\n",
    "                      '/NewApproachFromMarch2021/InfluenzaFitnessInference/figures/Perth_16_2009_G78D_T212I')\n",
    "data_path = os.path.join(data_folder, data_filename)\n",
    "\n",
    "data = pd.read_csv(data_path)"
   ]
  },
  {
   "cell_type": "code",
   "execution_count": 39,
   "metadata": {},
   "outputs": [],
   "source": [
    "# get reference sequence for strain Perth_16_2009_G78D_T212I\n",
    "strain_name = 'Perth_16_2009_G78D_T212I'\n",
    "\n",
    "strain_list_folder = os.path.normpath('C:/Users/julia/Documents/Resources/InfluenzaFitnessLandscape'\n",
    "                      '/NewApproachFromMarch2021/InfluenzaFitnessInference/figures')\n",
    "strain_list_filename = 'reference_sequences.data'\n",
    "strain_list_filepath = os.path.join(strain_list_folder, strain_list_filename)\n",
    "\n",
    "with open(strain_list_filepath, 'rb') as f:\n",
    "    seq_ref_dict = pickle.load(f)\n",
    "    \n",
    "seq_ref = seq_ref_dict[strain_name]"
   ]
  },
  {
   "cell_type": "code",
   "execution_count": 43,
   "metadata": {},
   "outputs": [],
   "source": [
    "# epitope sites (in my numbering) for which I did the inference\n",
    "res_epitope_list = hana.def_res_epitope_list()\n",
    "res_allepitopes_list = [res for res_list in res_epitope_list for res in res_list]"
   ]
  },
  {
   "cell_type": "code",
   "execution_count": 48,
   "metadata": {},
   "outputs": [],
   "source": [
    "## extract preferences and aa_list as list/array (sequence position in array has my numbering)\n",
    "\n",
    "# list of amino acids\n",
    "aa_list = list(data.columns)[1:]\n",
    "\n",
    "# transform preference table into array of shape N_site rows * num_aa=20 cols\n",
    "aa_pref_arr = data.to_numpy()[:,1:]\n",
    "\n",
    "# extract preference array and ref sequence for epitope sites only (for which I did the inference)\n",
    "aa_pref_epi = aa_pref_arr[res_allepitopes_list,:]\n",
    "seq_ref_epi = np.array(seq_ref)[res_allepitopes_list]"
   ]
  },
  {
   "cell_type": "code",
   "execution_count": 79,
   "metadata": {},
   "outputs": [],
   "source": [
    "## calculate measured mutational effects as log(max(p_mut(i))/p_ref(i)) as\n",
    "## the intrinsic mutational effect for the easiest mutation at site i away from the aa of the reference seq\n",
    "## or as  avg(log(p_mut(i)/p_ref(i))), i.e. the average mutational effect\n",
    "\n",
    "max_mut_effect_list = []\n",
    "avg_mut_effect_list = []\n",
    "for i in range(len(seq_ref_epi)):\n",
    "    aa_ref = seq_ref_epi[i] # reference state\n",
    "    ref_index = aa_list.index(aa_ref) # index for ref state in array\n",
    "    p_ref_list = aa_pref_epi[i,:]\n",
    "    p_ref = p_ref_list[ref_index] # preference for ref state\n",
    "    p_mut_list = np.delete(p_ref_list, ref_index) # preference for mutated states\n",
    "    p_max = np.amax(p_mut_list) # maximum preference to another state\n",
    "    max_mut_effect = np.log(p_max/p_ref)\n",
    "    mut_effects = np.log(p_mut_list/p_ref)# list of log preference ratios\n",
    "    avg_mut_effect = np.mean(mut_effects)\n",
    "    max_mut_effect_list.append(max_mut_effect)\n",
    "    avg_mut_effect_list.append(avg_mut_effect)"
   ]
  },
  {
   "cell_type": "code",
   "execution_count": 86,
   "metadata": {},
   "outputs": [],
   "source": [
    "## calculate shannon entropy from aa preferences\n",
    "shannon_e_list = []\n",
    "\n",
    "for i in range(len(seq_ref_epi)):\n",
    "    p_list = aa_pref_epi[i,:]\n",
    "    shannon_e = -np.sum(np.log(p_list)*p_list)\n",
    "    shannon_e_list.append(shannon_e)"
   ]
  },
  {
   "cell_type": "code",
   "execution_count": 66,
   "metadata": {},
   "outputs": [],
   "source": [
    "## get the inferred fitness coefficients for this reference sequence\n",
    "sigma_h = 1\n",
    "D0 = 5\n",
    "result_filename = 'HA_Inference_noCouplings' + 'sigma_h_' + str(sigma_h) + '_D0_' + str(D0) + '.data'\n",
    "seqref_results_folder = data_folder\n",
    "result_filepath = os.path.join(seqref_results_folder, result_filename)\n",
    "with open(result_filepath, 'rb') as f:\n",
    "    ana_result_dict = pickle.load(f)\n",
    "\n",
    "# inferred fitness params (in same order as mut_effect_list)\n",
    "h_inf_list = ana_result_dict['h_inf_list']\n",
    "h_inf_std_list = ana_result_dict['h_inf_std_list']"
   ]
  },
  {
   "cell_type": "code",
   "execution_count": 88,
   "metadata": {},
   "outputs": [
    {
     "name": "stdout",
     "output_type": "stream",
     "text": [
      "0.11555543692948274 0.18873717237619975\n",
      "0.12722468371323334 0.14759231430384054\n",
      "0.11969785939251587 0.17326869102572026\n"
     ]
    }
   ],
   "source": [
    "## calculate the rank correlation between inferred and measured mutational effects and with measured shannon entropy\n",
    "rhoMaxEffect, prho_MaxEffect = scipy.stats.spearmanr(max_mut_effect_list, h_inf_list)\n",
    "print(rhoMaxEffect, prho_MaxEffect)\n",
    "rhoAvgEffect, prho_AvgEffect = scipy.stats.spearmanr(avg_mut_effect_list, h_inf_list)\n",
    "print(rhoAvgEffect, prho_AvgEffect)\n",
    "rho_shannon, prho_shannon = scipy.stats.spearmanr(shannon_e_list, h_inf_list)\n",
    "print(rho_shannon, prho_shannon)"
   ]
  },
  {
   "cell_type": "code",
   "execution_count": 81,
   "metadata": {},
   "outputs": [],
   "source": [
    "## plot the inferred (y-axis) vs measured (x-axis) mutational effects\n",
    "plt_set = ana.set_plot_settings()\n",
    "\n",
    "# inferred vs max mutational effects\n",
    "fig_name = 'hInferred_vs_hMaxMeasured_' + 'sigma_h_' + str(sigma_h) + '_D0_' + str(D0) + plt_set['file_extension']\n",
    "this_plot_filepath = os.path.join(data_folder, fig_name)\n",
    "fig = plt.figure(figsize=(plt_set['full_page_width']/2, 3))\n",
    "ax1 = fig.add_axes(plt_set['plot_dim_1pan'][0])\n",
    "ax1.errorbar(max_mut_effect_list, h_inf_list, h_inf_std_list, marker='o', linestyle='none', zorder=1)\n",
    "ax1.set_xlabel('measured max log aa preference ratios')\n",
    "ax1.set_ylabel('inferred $h$')\n",
    "ax1.set_ylim(-1.5,1.5)\n",
    "\n",
    "plt.savefig(this_plot_filepath, bbox_inches='tight')\n",
    "plt.close()\n",
    "\n",
    "# inferred vs avg. mutational effects\n",
    "fig_name = 'hInferred_vs_hAvgMeasured_' + 'sigma_h_' + str(sigma_h) + '_D0_' + str(D0) + plt_set['file_extension']\n",
    "this_plot_filepath = os.path.join(data_folder, fig_name)\n",
    "fig = plt.figure(figsize=(plt_set['full_page_width']/2, 3))\n",
    "ax1 = fig.add_axes(plt_set['plot_dim_1pan'][0])\n",
    "ax1.errorbar(avg_mut_effect_list, h_inf_list, h_inf_std_list, marker='o', linestyle='none', zorder=1)\n",
    "ax1.set_xlabel('measured avg. log aa preference ratios')\n",
    "ax1.set_ylabel('inferred $h$')\n",
    "ax1.set_ylim(-1.5,1.5)\n",
    "\n",
    "plt.savefig(this_plot_filepath, bbox_inches='tight')\n",
    "plt.close()"
   ]
  },
  {
   "cell_type": "code",
   "execution_count": 37,
   "metadata": {},
   "outputs": [
    {
     "name": "stdout",
     "output_type": "stream",
     "text": [
      "[0.04007939 0.05493957 0.02124495 0.03012344 0.03527437 0.0118324\n",
      " 0.02453517 0.07592211 0.02110395 0.23884933 0.05486379 0.02444667\n",
      " 0.03557482 0.0235555  0.04055357 0.02232434 0.05319938 0.13476075\n",
      " 0.03710657 0.01970993]\n"
     ]
    }
   ],
   "source": [
    "## "
   ]
  },
  {
   "cell_type": "code",
   "execution_count": null,
   "metadata": {},
   "outputs": [],
   "source": []
  }
 ],
 "metadata": {
  "kernelspec": {
   "display_name": "Python 3",
   "language": "python",
   "name": "python3"
  },
  "language_info": {
   "codemirror_mode": {
    "name": "ipython",
    "version": 3
   },
   "file_extension": ".py",
   "mimetype": "text/x-python",
   "name": "python",
   "nbconvert_exporter": "python",
   "pygments_lexer": "ipython3",
   "version": "3.8.5"
  }
 },
 "nbformat": 4,
 "nbformat_minor": 4
}
