{
 "cells": [
  {
   "cell_type": "code",
   "execution_count": 1,
   "metadata": {},
   "outputs": [],
   "source": [
    "# Simulation for the evolution of influenza-like antigenic protein sequences\n",
    "\n",
    "# import modules\n",
    "import time\n",
    "import numpy as np\n",
    "import csv\n",
    "import copy\n",
    "import os\n",
    "import logging\n",
    "import pickle\n",
    "from pypet import Environment, cartesian_product, progressbar, Parameter\n",
    "from datetime import date\n",
    "today = date.today()\n",
    "strdate_today = today.strftime(\"%Y%b%d\")\n",
    "repository_path = os.path.normpath('C:/Users/julia/Documents/Resources/InfluenzaFitnessLandscape/NewApproachFromMarch2021/'\n",
    "                                   'InfluenzaFitnessInference')\n",
    "# import custom module\n",
    "from fitnessinference import simulation as simu\n",
    "\n",
    "# create folders for data and plots \n",
    "# (use os-package to make sure it works on linux and windows)\n",
    "\n",
    "current_directory = os.getcwd() # current directory\n",
    "# result_directory = current_directory # use the current directory for cluster simulations\n",
    "result_directory = repository_path\n",
    "# folder to store results:\n",
    "folder = os.path.join(result_directory, 'results', 'simulations')\n",
    "# subfolder to store temporary results\n",
    "temp_folder = os.path.join(folder, strdate_today+'_temp')\n",
    "if not os.path.isdir(folder):\n",
    "    os.makedirs(folder)\n",
    "if not os.path.isdir(temp_folder):\n",
    "    os.makedirs(temp_folder)\n",
    "# filename for final pypet results of the experiment\n",
    "filename = os.path.join(folder, strdate_today+'.hdf5')\n",
    "\n",
    "# filepath for logs and storage of intermediate files\n",
    "filepath = temp_folder"
   ]
  },
  {
   "cell_type": "code",
   "execution_count": null,
   "metadata": {},
   "outputs": [],
   "source": [
    "# create environment and run the simulation using pypet\n",
    "\n",
    "# make use of logging\n",
    "logger = logging.getLogger()\n",
    "\n",
    "# Create an environment\n",
    "env = Environment(trajectory=strdate_today,\n",
    "                 overwrite_file=True,\n",
    "                 filename=filename)\n",
    "\n",
    "# env = Environment(trajectory='test6',\n",
    "#                  filename=filename)\n",
    "\n",
    "# Exctract the trajectory\n",
    "traj = env.traj\n",
    "\n",
    "# use the add_parameter function to add the parameters\n",
    "simu.add_parameters(traj)\n",
    "\n",
    "# define the parameter exploration for this experiment\n",
    "exp_dict = {'N_pop' : [10, 100]}\n",
    "# if I want to run all parameter combinations, run cartesian product\n",
    "# exp_dict = cartesian_product(exp_dict) \n",
    "# the entries in the final dictionary need to all have equal lengths\n",
    "# to tell the simulation which specific param combos to test\n",
    "\n",
    "# add the exploration to the trajectory\n",
    "traj.f_explore(exp_dict)\n",
    "\n",
    "# Run the simulation\n",
    "logger.info('Starting Simulation')\n",
    "env.run(simu.flu_antigen_simulation, filepath)"
   ]
  },
  {
   "cell_type": "code",
   "execution_count": 4,
   "metadata": {},
   "outputs": [
    {
     "name": "stdout",
     "output_type": "stream",
     "text": [
      "True\n",
      "True\n",
      "201\n",
      "20\n"
     ]
    }
   ],
   "source": [
    "# load and test data\n",
    "test_filename = 'running_N_pop_10N_site_20N_state_2mu_1e-04sigma_h_1D0_5h_0_-7J_0_0seed_123456N_simu_2e+02.data'\n",
    "test_filepath = os.path.join(temp_folder, test_filename)\n",
    "\n",
    "with open(test_filepath, 'rb') as f:\n",
    "    resulting_data = pickle.load(f)\n",
    "    \n",
    "strain_yearly = resulting_data['strain_yearly']\n",
    "strain_frequency_yearly = resulting_data['strain_frequency_yearly']\n",
    "    \n",
    "print(len(strain_yearly)==len(strain_frequency_yearly))\n",
    "print(np.all(strain_frequency_yearly!=0))\n",
    "print(len(strain_yearly))\n",
    "print(len(strain_yearly[0][0]))"
   ]
  },
  {
   "cell_type": "code",
   "execution_count": null,
   "metadata": {},
   "outputs": [],
   "source": []
  },
  {
   "cell_type": "code",
   "execution_count": null,
   "metadata": {},
   "outputs": [],
   "source": []
  }
 ],
 "metadata": {
  "kernelspec": {
   "display_name": "Python 3",
   "language": "python",
   "name": "python3"
  },
  "language_info": {
   "codemirror_mode": {
    "name": "ipython",
    "version": 3
   },
   "file_extension": ".py",
   "mimetype": "text/x-python",
   "name": "python",
   "nbconvert_exporter": "python",
   "pygments_lexer": "ipython3",
   "version": "3.8.5"
  }
 },
 "nbformat": 4,
 "nbformat_minor": 4
}
