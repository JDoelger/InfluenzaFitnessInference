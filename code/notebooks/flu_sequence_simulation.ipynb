{
 "cells": [
  {
   "cell_type": "code",
   "execution_count": 139,
   "metadata": {},
   "outputs": [],
   "source": [
    "# Simulation for the evolution of influenza-like antigenic protein sequences\n",
    "\n",
    "# import modules\n",
    "import numpy as np\n",
    "import os\n",
    "import logging\n",
    "import pickle\n",
    "from pypet import Environment, cartesian_product, progressbar, Parameter\n",
    "from datetime import date\n",
    "today = date.today()\n",
    "strdate_today = today.strftime(\"%Y%b%d\")\n",
    "repository_path = os.path.normpath('C:/Users/julia/Documents/Resources/InfluenzaFitnessLandscape/NewApproachFromMarch2021/'\n",
    "                                   'InfluenzaFitnessInference')\n",
    "import fitnessinference.simulation as simu\n",
    "\n",
    "# create folders for data and plots \n",
    "# (use os package to make sure it works on linux and windows)\n",
    "\n",
    "# result_directory = os.getcwd() # use the current directory for cluster simulations\n",
    "result_directory = repository_path\n",
    "# folder to store results:\n",
    "folder = os.path.join(result_directory, 'results', 'simulations')\n",
    "# subfolder to store temporary results\n",
    "temp_folder = os.path.join(folder, strdate_today+'_temp')\n",
    "if not os.path.isdir(folder):\n",
    "    os.makedirs(folder)\n",
    "if not os.path.isdir(temp_folder):\n",
    "    os.makedirs(temp_folder)\n",
    "# filename for final pypet results of the experiment\n",
    "filename = os.path.join(folder, strdate_today+'.hdf5')\n",
    "\n",
    "# filepath for logs and storage of intermediate files\n",
    "filepath = temp_folder"
   ]
  },
  {
   "cell_type": "code",
   "execution_count": 140,
   "metadata": {},
   "outputs": [
    {
     "name": "stdout",
     "output_type": "stream",
     "text": [
      "C:\\Users\\julia\\Documents\\Resources\\InfluenzaFitnessLandscape\\NewApproachFromMarch2021\\InfluenzaFitnessInference\\results\\simulations\\2021Apr02_temp\n"
     ]
    }
   ],
   "source": [
    "print(filepath)"
   ]
  },
  {
   "cell_type": "code",
   "execution_count": 168,
   "metadata": {},
   "outputs": [],
   "source": [
    "def simulation(traj, filepath):\n",
    "    \"\"\"\n",
    "    simulate the sequence evolution\n",
    "    \n",
    "    Parameters:\n",
    "    -----------\n",
    "    \n",
    "    filepath: path where to save intermediate results\n",
    "    \n",
    "    traj: pypet.trajectory.Trajectory\n",
    "            trajectory container, which manages the parameters\n",
    "            \n",
    "    Results:\n",
    "    ---------\n",
    "    \n",
    "    strain_yearly: list \n",
    "            [[list of unique sequences (strains)] \n",
    "            for each time step] \n",
    "            with strains from most to least prevalent at each time\n",
    "            \n",
    "    strain_frequency_yearly: list\n",
    "            [[list of frequencies of strains] \n",
    "            for each time step] \n",
    "            in same order as in strain_yearly\n",
    "            \n",
    "    tree_yearly: list\n",
    "            [[[parent strain index, child strain index] for each ancestrial pair] \n",
    "            for each time step] \n",
    "            each unique parent-child strain combination is added once\n",
    "            \n",
    "    branch_weight_yearly: list\n",
    "            [[list of counts for each occurrence of a specific parent-child combi] \n",
    "            for each time step] \n",
    "            the index of the branch weight is the same \n",
    "            as the index of the [parent,child] in tree_yearly \n",
    "            for the same time step\n",
    "            \n",
    "    pickled .data files with intermediate simulation results\n",
    "            \n",
    "    Returns:\n",
    "    --------\n",
    "    \n",
    "    None\n",
    "    \"\"\"\n",
    "    # initializations:\n",
    "    \n",
    "    # set RNG seed:\n",
    "    np.random.seed(traj.seed)\n",
    "    # current sequences, numpy array, initialized with all zeros\n",
    "    seqs = np.zeros((traj.N_pop, traj.N_site)) \n",
    "    # strains at each time, list, initialized with initial strain\n",
    "    strain_yearly = [[list(seqs[0])]]\n",
    "    # strain indices for each current sequence, list, initialized with zeros\n",
    "    seq_strain_idx = [0 for i in range(traj.N_pop)] \n",
    "    # strain frequencies at each time, list, initialized with 1\n",
    "    strain_frequency_yearly = [[1]] \n",
    "    # strain indices for each parent and child, list, initialized empty\n",
    "    tree_yearly = []\n",
    "    # number of times each tree branch is taken. list\n",
    "    branch_weight_yearly = []\n",
    "    # current list of exp(fitness) for each sequence, initialized with zeros\n",
    "    pfit_0 = [0 for i in range(traj.N_pop)] \n",
    "    # set fitness coefficients according to the selected rule\n",
    "    if traj.hJ_coeffs=='constant':\n",
    "        h_list, J_list = simu.fitness_coeff_constant(traj.N_site,traj.N_state,traj.h_0,traj.J_0)\n",
    "\n",
    "    # filenames for intermediate results:\n",
    "    name_drop = len('parameters.') # from parameter names length of first part\n",
    "    params = ''\n",
    "    # add each parameter with name and value into name:\n",
    "    for key, value in traj.f_get_parameters(1).items():\n",
    "        if isinstance(value, int) and (value<100 or key[name_drop:]=='seed'):\n",
    "            params += key[name_drop:] + '_%.i' % value \n",
    "        elif isinstance(value, float) or (isinstance(value, int) and value>100):\n",
    "            params += key[name_drop:] + '_%.e' % value\n",
    "        elif isinstance(value, type(str)):\n",
    "            params += key[name_drop:] + '_' + value + '_'\n",
    "            \n",
    "    filename = os.path.join(filepath, 'running_' + params + '.data')\n",
    "    with open(filename, 'wb') as filehandle:  \n",
    "        pickle.dump(dict(), filehandle)\n",
    "    \n",
    "    # simulation of sequence evolution:\n",
    "    for t in range(N_simu):\n",
    "        tnext = t + 1 # next time step\n",
    "        \n",
    "        # mutate sequences\n",
    "        \n",
    "        # determine fitnesses\n",
    "        \n",
    "        # select surviving seqs\n",
    "        \n",
    "        # update and save data\n",
    "        \n",
    "        "
   ]
  },
  {
   "cell_type": "code",
   "execution_count": 169,
   "metadata": {},
   "outputs": [],
   "source": [
    "simulation(traj, filepath)"
   ]
  },
  {
   "cell_type": "code",
   "execution_count": 161,
   "metadata": {},
   "outputs": [
    {
     "ename": "TypeError",
     "evalue": "isinstance() arg 2 must be a type or tuple of types",
     "output_type": "error",
     "traceback": [
      "\u001b[1;31m---------------------------------------------------------------------------\u001b[0m",
      "\u001b[1;31mTypeError\u001b[0m                                 Traceback (most recent call last)",
      "\u001b[1;32m<ipython-input-161-b711ab80cf27>\u001b[0m in \u001b[0;36m<module>\u001b[1;34m\u001b[0m\n\u001b[0;32m      1\u001b[0m \u001b[1;32mfor\u001b[0m \u001b[0mkey\u001b[0m\u001b[1;33m,\u001b[0m \u001b[0mvalue\u001b[0m \u001b[1;32min\u001b[0m \u001b[0mtraj\u001b[0m\u001b[1;33m.\u001b[0m\u001b[0mf_get_parameters\u001b[0m\u001b[1;33m(\u001b[0m\u001b[1;36m1\u001b[0m\u001b[1;33m)\u001b[0m\u001b[1;33m.\u001b[0m\u001b[0mitems\u001b[0m\u001b[1;33m(\u001b[0m\u001b[1;33m)\u001b[0m\u001b[1;33m:\u001b[0m\u001b[1;33m\u001b[0m\u001b[1;33m\u001b[0m\u001b[0m\n\u001b[1;32m----> 2\u001b[1;33m      \u001b[0mprint\u001b[0m\u001b[1;33m(\u001b[0m\u001b[0mkey\u001b[0m\u001b[1;33m[\u001b[0m\u001b[0ml_drop\u001b[0m\u001b[1;33m:\u001b[0m\u001b[1;33m]\u001b[0m\u001b[1;33m,\u001b[0m \u001b[0misinstance\u001b[0m\u001b[1;33m(\u001b[0m\u001b[0mvalue\u001b[0m\u001b[1;33m,\u001b[0m \u001b[0mstr\u001b[0m\u001b[1;33m)\u001b[0m\u001b[1;33m,\u001b[0m \u001b[0mtype\u001b[0m\u001b[1;33m(\u001b[0m\u001b[0mvalue\u001b[0m\u001b[1;33m)\u001b[0m\u001b[1;33m)\u001b[0m\u001b[1;33m\u001b[0m\u001b[1;33m\u001b[0m\u001b[0m\n\u001b[0m\u001b[0;32m      3\u001b[0m \u001b[1;33m\u001b[0m\u001b[0m\n\u001b[0;32m      4\u001b[0m \u001b[0mprint\u001b[0m\u001b[1;33m(\u001b[0m\u001b[0mtype\u001b[0m\u001b[1;33m(\u001b[0m\u001b[0mtraj\u001b[0m\u001b[1;33m.\u001b[0m\u001b[0mf_get_parameters\u001b[0m\u001b[1;33m(\u001b[0m\u001b[1;36m1\u001b[0m\u001b[1;33m)\u001b[0m\u001b[1;33m)\u001b[0m\u001b[1;33m)\u001b[0m\u001b[1;33m\u001b[0m\u001b[1;33m\u001b[0m\u001b[0m\n",
      "\u001b[1;31mTypeError\u001b[0m: isinstance() arg 2 must be a type or tuple of types"
     ]
    }
   ],
   "source": [
    "for key, value in traj.f_get_parameters(1).items():\n",
    "     print(key[l_drop:], isinstance(value, str), type(value))\n",
    "\n",
    "print(type(traj.f_get_parameters(1)))"
   ]
  },
  {
   "cell_type": "code",
   "execution_count": 13,
   "metadata": {},
   "outputs": [
    {
     "name": "stdout",
     "output_type": "stream",
     "text": [
      "True\n",
      "True\n",
      "True\n"
     ]
    }
   ],
   "source": [
    "print(h_list[0][0]==traj.h_0)\n",
    "print(J_list[0][0][0]==traj.J_0)\n",
    "print(isinstance(J_list,np.ndarray))"
   ]
  },
  {
   "cell_type": "code",
   "execution_count": 143,
   "metadata": {},
   "outputs": [
    {
     "name": "stderr",
     "output_type": "stream",
     "text": [
      "MainProcess pypet.storageservice.HDF5StorageService INFO     I will use the hdf5 file `C:\\Users\\julia\\Documents\\Resources\\InfluenzaFitnessLandscape\\NewApproachFromMarch2021\\InfluenzaFitnessInference\\results\\simulations\\2021Apr02.hdf5`.\n",
      "MainProcess pypet.environment.Environment INFO     Environment initialized.\n"
     ]
    }
   ],
   "source": [
    "# make use of logging\n",
    "logger = logging.getLogger()\n",
    "\n",
    "# Create an environment\n",
    "env = Environment(trajectory=strdate_today,\n",
    "                  multiproc=True,\n",
    "                  ncores=4,\n",
    "                  wrap_mode='QUEUE',\n",
    "                  filename=filename)\n",
    "\n",
    "# Exctract the trajectory\n",
    "traj = env.traj\n",
    "\n",
    "# use the add_parameter function to add the parameters\n",
    "simu.add_parameters(traj)\n",
    "\n",
    "# define the parameter exploration for this experiment\n",
    "exp_dict = {'N_pop' : [10, 100],\n",
    "           'h_0': [-7, -5, -1, 0]}\n",
    "\n",
    "exp_dict = cartesian_product(exp_dict)\n",
    "# add the exploration to the trajectory\n",
    "traj.f_explore(exp_dict)\n",
    "\n",
    "# Run the simulation\n",
    "#logger.info('Starting Simulation')\n",
    "#env.run(simulation)"
   ]
  },
  {
   "cell_type": "code",
   "execution_count": null,
   "metadata": {},
   "outputs": [],
   "source": [
    "simulation(traj)\n",
    "    "
   ]
  },
  {
   "cell_type": "code",
   "execution_count": null,
   "metadata": {},
   "outputs": [],
   "source": [
    "print([item for item in enumerate(traj.parameters.f_iter_nodes())])"
   ]
  },
  {
   "cell_type": "code",
   "execution_count": null,
   "metadata": {},
   "outputs": [],
   "source": []
  }
 ],
 "metadata": {
  "kernelspec": {
   "display_name": "Python 3",
   "language": "python",
   "name": "python3"
  },
  "language_info": {
   "codemirror_mode": {
    "name": "ipython",
    "version": 3
   },
   "file_extension": ".py",
   "mimetype": "text/x-python",
   "name": "python",
   "nbconvert_exporter": "python",
   "pygments_lexer": "ipython3",
   "version": "3.8.5"
  }
 },
 "nbformat": 4,
 "nbformat_minor": 4
}
