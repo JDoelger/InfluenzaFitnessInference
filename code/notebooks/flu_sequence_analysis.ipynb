{
 "cells": [
  {
   "cell_type": "code",
   "execution_count": 7,
   "metadata": {},
   "outputs": [],
   "source": [
    "# import modules\n",
    "from pypet import Environment, Parameter, cartesian_product, progressbar, Trajectory\n",
    "import numpy as np\n",
    "import csv\n",
    "import os\n",
    "import copy\n",
    "import pickle\n",
    "import logging\n",
    "from datetime import date"
   ]
  },
  {
   "cell_type": "code",
   "execution_count": 5,
   "metadata": {},
   "outputs": [],
   "source": [
    "# load data from one simulation:\n",
    "\n",
    "repository_path = os.path.normpath('C:/Users/julia/Documents/Resources/InfluenzaFitnessLandscape/NewApproachFromMarch2021/'\n",
    "                                   'InfluenzaFitnessInference')\n",
    "result_directory = repository_path\n",
    "simu_date = '2021Apr07'\n",
    "\n",
    "\n",
    "simu_file = os.path.join(result_directory, 'results', 'simulations', simu_date + '.hdf5')\n",
    "# only need trajectory, not environment to look at parameters and results:\n",
    "traj = Trajectory(simu_date, add_time=False)\n",
    "# load the trajectory from the file with only parameters but not results loaded\n",
    "traj.f_load(filename=simu_file, load_parameters=2,\n",
    "            load_results=0, load_derived_parameters=0)\n",
    "\n",
    "temp_folder = os.path.join(result_directory, 'results', 'simulations', simu_date + '_temp')\n",
    "test_filename = 'running_N_pop_1e+06N_site_20N_state_2mu_1e-04sigma_h_1D0_5h_0_-7J_0_0seed_123456N_simu_2e+02.data'\n",
    "test_filepath = os.path.join(temp_folder, test_filename)\n",
    "\n",
    "with open(test_filepath, 'rb') as f:\n",
    "    resulting_data = pickle.load(f)\n",
    "    \n",
    "strain_yearly = resulting_data['strain_yearly']\n",
    "strain_frequency_yearly = resulting_data['strain_frequency_yearly']"
   ]
  },
  {
   "cell_type": "code",
   "execution_count": 11,
   "metadata": {},
   "outputs": [],
   "source": []
  },
  {
   "cell_type": "code",
   "execution_count": null,
   "metadata": {},
   "outputs": [],
   "source": []
  }
 ],
 "metadata": {
  "kernelspec": {
   "display_name": "Python 3",
   "language": "python",
   "name": "python3"
  },
  "language_info": {
   "codemirror_mode": {
    "name": "ipython",
    "version": 3
   },
   "file_extension": ".py",
   "mimetype": "text/x-python",
   "name": "python",
   "nbconvert_exporter": "python",
   "pygments_lexer": "ipython3",
   "version": "3.8.5"
  }
 },
 "nbformat": 4,
 "nbformat_minor": 4
}
